{
 "cells": [
  {
   "cell_type": "markdown",
   "id": "345a1b27-1df4-40e8-a2f9-0ff817ad8241",
   "metadata": {
    "tags": []
   },
   "source": [
    "# Evaluation spechum, temp vorticity GCMx -> 2.2km-4x over Birmingham\n",
    "\n",
    "Compare model using spechum, temp and vort850 with one just vort850\n",
    "\n",
    "## Diff model\n",
    "\n",
    "No loc-spec params\n",
    "\n",
    "64x64 pixel target\n",
    "\n",
    "With stored transforms so CPM-based and GCM-based samples use the same set of transforms computed during training from CPM training set\n",
    "\n",
    "\n",
    "Input transform: standardize (based on train set mean and std) then devide by standardized train set max\n",
    "\n",
    "Target transform: sqrt then divide by sqrted train set max\n",
    "\n",
    "Sample inverse transform: multiply by train set max, clip negative values to 0 then square"
   ]
  },
  {
   "cell_type": "code",
   "execution_count": null,
   "id": "48718f5d-f1f8-4ccc-8089-a90b8e505b7c",
   "metadata": {
    "tags": []
   },
   "outputs": [],
   "source": [
    "%reload_ext autoreload\n",
    "\n",
    "%autoreload 2\n",
    "\n",
    "import math\n",
    "import os\n",
    "\n",
    "import iris\n",
    "import iris.analysis.cartography\n",
    "import IPython\n",
    "import matplotlib\n",
    "import matplotlib.pyplot as plt\n",
    "import numpy as np\n",
    "import xarray as xr\n",
    "\n",
    "from ml_downscaling_emulator import UKCPDatasetMetadata\n",
    "from ml_downscaling_emulator.helpers import plot_over_ts\n",
    "from ml_downscaling_emulator.utils import cp_model_rotated_pole, platecarree, plot_grid, prep_eval_data, show_samples, distribution_figure, plot_mean_bias, plot_std, plot_psd"
   ]
  },
  {
   "cell_type": "code",
   "execution_count": null,
   "id": "39165dc3-4faa-4cd8-9ab2-bef563ec7afa",
   "metadata": {
    "tags": []
   },
   "outputs": [],
   "source": [
    "split = \"val\"\n",
    "\n",
    "datasets = {\n",
    "    \"CPM\": \"2.2km-coarsened-gcm-2.2km-coarsened-4x_birmingham_vorticity850_random\",\n",
    "    \"GCM\": \"60km-2.2km-coarsened-4x_birmingham_vorticity850_random\",\n",
    "}\n",
    "\n",
    "runs = [\n",
    "    # (\"bham-4x_V850_random-fixed-gcmx-vort-grid\", 20, \"V850 no-LS\"),\n",
    "    # (\"bham-4x_V850_random-shared-xfms\", 20, \"V850 no-LS ST),\n",
    "    (\"bham-4x_V850_random-ls8\", 20, \"V850 LS8\"),\n",
    "]\n",
    "vort_ds = prep_eval_data(datasets, runs, split)"
   ]
  },
  {
   "cell_type": "code",
   "execution_count": null,
   "id": "67fafd63-6836-4381-b6c6-0f4cb65e093d",
   "metadata": {
    "tags": []
   },
   "outputs": [],
   "source": [
    "datasets = {\n",
    "    \"CPM\": \"bham_gcmx-4x_spechum-temp-vorticity850_random\",\n",
    "    \"GCM\": \"bham_60km-4x_spechum-temp-vorticity850_random\",\n",
    "}\n",
    "\n",
    "runs = [\n",
    "    # (\"bham-4x_STV850_random-shared-xfms\", 20, \"STV no-LS ST\"),\n",
    "    # (\"bham-4x_STV850_random\", 20, \"STV no-LS\"),\n",
    "    (\"bham-4x_STV850_random-ls8-shared-xfms\", 20, \"STV850 LS8 ST\"),\n",
    "    (\"bham-4x_STV850_random-ls8\", 20, \"STV850 LS8\"),\n",
    "]\n",
    "spechum_temp_vort_ds = prep_eval_data(datasets, runs, split)"
   ]
  },
  {
   "cell_type": "code",
   "execution_count": null,
   "id": "c83b0e7c-7fcc-4d81-95cc-ce65faa86d89",
   "metadata": {
    "tags": []
   },
   "outputs": [],
   "source": [
    "merged_ds = xr.merge([vort_ds.drop_vars(\"pressure\"), spechum_temp_vort_ds.drop_vars(\"pressure\")])"
   ]
  },
  {
   "cell_type": "code",
   "execution_count": null,
   "id": "72d6e1f8-1d26-47c1-b513-c68fd145bc9f",
   "metadata": {
    "tags": []
   },
   "outputs": [],
   "source": [
    "total_target_pr = merged_ds[\"target_pr\"].sel(source=\"CPM\").mean(dim=[\"grid_longitude\", \"grid_latitude\"])"
   ]
  },
  {
   "cell_type": "markdown",
   "id": "c0cb0adc-12dc-4bd8-8224-cb2b1afeae6a",
   "metadata": {},
   "source": [
    "## Samples"
   ]
  },
  {
   "cell_type": "code",
   "execution_count": null,
   "id": "7b0191dc-8f48-465d-852e-2168564723d7",
   "metadata": {
    "tags": []
   },
   "outputs": [],
   "source": [
    "sorted_time = total_target_pr.sortby(total_target_pr)[\"time\"].values"
   ]
  },
  {
   "cell_type": "code",
   "execution_count": null,
   "id": "8412395c-01e1-4d84-a42d-152029f82fdd",
   "metadata": {
    "tags": []
   },
   "outputs": [],
   "source": [
    "timestamp_chunks = [\n",
    "    sorted_time[t:t+2] for t in [\n",
    "        -20, \n",
    "        # math.ceil(len(sorted_time)*0.9),\n",
    "        math.ceil(len(sorted_time)*0.81),\n",
    "        # math.ceil(len(sorted_time)*0.5), \n",
    "        # 17\n",
    "    ]\n",
    "]\n",
    "# timestamps = np.random.choice(sorted_time, size=2*3, replace=False)\n",
    "\n",
    "for i, timestamps in enumerate(timestamp_chunks):\n",
    "    IPython.display.display_html(f\"<h1>Timestep chunk {i}</h1>\", raw=True)\n",
    "    show_samples(merged_ds, timestamps)"
   ]
  },
  {
   "cell_type": "markdown",
   "id": "1104e57b-f3c0-4a56-831a-ba99d91f05a4",
   "metadata": {},
   "source": [
    "## Frequency distribution"
   ]
  },
  {
   "cell_type": "markdown",
   "id": "13dc9a74-e90b-493f-a31b-0056c4ccc8e3",
   "metadata": {},
   "source": [
    "### Pixel"
   ]
  },
  {
   "cell_type": "code",
   "execution_count": null,
   "id": "4c5b48a3-1412-4af2-b6ed-58bd6c836703",
   "metadata": {
    "tags": []
   },
   "outputs": [],
   "source": [
    "quantiles = np.concatenate([np.linspace(0.1,0.8,8), np.linspace(0.9,0.99,10), np.linspace(0.991,0.999,9)])\n",
    "\n",
    "distribution_figure(merged_ds, quantiles, \"Distribution of pixel values\")"
   ]
  },
  {
   "cell_type": "markdown",
   "id": "b958f3e2-e6bd-4aaf-a15e-6d57cdd369bb",
   "metadata": {},
   "source": [
    "### Mean over space"
   ]
  },
  {
   "cell_type": "code",
   "execution_count": null,
   "id": "f0bc8849-d68f-4e7c-8cfe-344c76b1447a",
   "metadata": {
    "tags": []
   },
   "outputs": [],
   "source": [
    "quantiles = np.concatenate([np.linspace(0.1,0.8,8), np.linspace(0.9,0.99,10), np.linspace(0.991,0.999,9)])\n",
    "\n",
    "distribution_figure(merged_ds[[\"target_pr\", \"pred_pr\"]].mean(dim=[\"grid_longitude\", \"grid_latitude\"]), quantiles, \"Distribution of mean precip over space\")"
   ]
  },
  {
   "cell_type": "markdown",
   "id": "f4ba822c-b8d8-4c2a-b629-2bdf43a90bd2",
   "metadata": {},
   "source": [
    "## Bias"
   ]
  },
  {
   "cell_type": "code",
   "execution_count": null,
   "id": "f2b208f0-d33a-4c72-809e-4d992145b736",
   "metadata": {
    "tags": []
   },
   "outputs": [],
   "source": [
    "plot_mean_bias(merged_ds)"
   ]
  },
  {
   "cell_type": "markdown",
   "id": "3691d022-0822-4799-8c0d-93224fe35783",
   "metadata": {},
   "source": [
    "## Standard deviation"
   ]
  },
  {
   "cell_type": "code",
   "execution_count": null,
   "id": "a8de95ee-f003-4c5c-ac21-5b197db39d57",
   "metadata": {
    "tags": []
   },
   "outputs": [],
   "source": [
    "plot_std(merged_ds)"
   ]
  },
  {
   "cell_type": "markdown",
   "id": "f0cf223a-ea5c-4a0c-80bb-f567ae314633",
   "metadata": {},
   "source": [
    "## Scatter"
   ]
  },
  {
   "cell_type": "code",
   "execution_count": null,
   "id": "36026d44-3550-4a19-85ea-a2f648b1391b",
   "metadata": {
    "jupyter": {
     "source_hidden": true
    },
    "tags": []
   },
   "outputs": [],
   "source": [
    "# fig, axs = plt.subplots(1, 1, figsize=(20, 6))\n",
    "\n",
    "# tr = min(merged_ds[\"pred_pr\"].max(), merged_ds[\"target_pr\"].max())\n",
    "\n",
    "\n",
    "# ax = axs\n",
    "\n",
    "# ax.scatter(x=merged_ds[\"pred_pr\"], y=merged_ds[\"target_pr\"].values[None, :].repeat(len(merged_ds[\"sample_id\"]), 0), alpha=0.05)\n",
    "# ax.plot([0, tr], [0, tr], linewidth=1, color='green')\n"
   ]
  },
  {
   "cell_type": "code",
   "execution_count": null,
   "id": "abd0ccff-5abe-4a65-9e9c-cb0e1b8907a8",
   "metadata": {
    "jupyter": {
     "source_hidden": true
    },
    "tags": []
   },
   "outputs": [],
   "source": [
    "# sample_ids = np.arange(9).reshape(3, 3)\n",
    "\n",
    "# fig, axs = plt.subplots(sample_ids.shape[0], sample_ids.shape[1], figsize=(30, 12))\n",
    "\n",
    "# tr = min(merged_ds[\"pred_pr\"].max(), merged_ds[\"target_pr\"].max())\n",
    "\n",
    "# for i, sample_id in enumerate(sample_ids.flatten()):\n",
    "#     ax = axs[i//3][i%3]\n",
    "\n",
    "#     ax.scatter(x=merged_ds[\"pred_pr\"].sel(sample_id=sample_id), y=merged_ds[\"target_pr\"], alpha=0.1)\n",
    "#     ax.plot([0, tr], [0, tr], linewidth=1, color='green')\n",
    "#     ax.set_xlabel(f\"Sample {sample_id} pr\")\n",
    "#     ax.set_ylabel(f\"Target pr\")\n",
    "    \n",
    "# plt.show()"
   ]
  },
  {
   "cell_type": "code",
   "execution_count": null,
   "id": "f56a8232-f925-48b9-9985-4c40d0a56295",
   "metadata": {
    "jupyter": {
     "source_hidden": true
    },
    "tags": []
   },
   "outputs": [],
   "source": [
    "# fig, axs = plt.subplots(1, 1, figsize=(20, 6))\n",
    "\n",
    "# tr = min(total_pred_pr.max(), total_target_pr.max())\n",
    "\n",
    "# ax = axs\n",
    "\n",
    "# ax.scatter(x=total_pred_pr, y=total_target_pr.values[None, :].repeat(len(total_pred_pr[\"sample_id\"]), 0), alpha=0.25)\n",
    "# ax.plot([0, tr], [0, tr], linewidth=1, color='green')\n",
    "\n",
    "# plt.show()"
   ]
  },
  {
   "cell_type": "markdown",
   "id": "34f88210-d8f8-4583-9474-7244f5a73c8d",
   "metadata": {},
   "source": [
    "## PSD"
   ]
  },
  {
   "cell_type": "raw",
   "id": "98d1fe34-aa66-4179-a08a-f5c2c2016893",
   "metadata": {},
   "source": [
    "simulation_data = {\"CPM Target\": merged_ds.sel(source=\"CPM\")[\"target_pr\"], \"GCM Target\": merged_ds.sel(source=\"GCM\")[\"target_pr\"]}\n",
    "ml_data = { f\"{source} {model} Sample\": merged_ds.sel(source=source, model=model)[\"pred_pr\"] for model in merged_ds[\"model\"].values for source in [\"CPM\"] }\n",
    "plot_psd(ml_data | simulation_data)\n",
    "\n",
    "simulation_data = {\"CPM Target\": merged_ds.sel(source=\"CPM\")[\"target_pr\"], \"GCM Target\": merged_ds.sel(source=\"GCM\")[\"target_pr\"]}\n",
    "ml_data = { f\"{source} {model} Sample\": merged_ds.sel(source=source, model=model)[\"pred_pr\"] for model in merged_ds[\"model\"].values for source in [\"GCM\"] }\n",
    "plot_psd(ml_data | simulation_data)"
   ]
  },
  {
   "cell_type": "markdown",
   "id": "7efc24ed-7d89-4e59-be7f-55c944901f00",
   "metadata": {},
   "source": [
    "## Correlation"
   ]
  },
  {
   "cell_type": "raw",
   "id": "64126851-1be2-4e74-9db3-8f6827b5abe2",
   "metadata": {},
   "source": [
    "target_corr = xr.corr(merged_ds[\"vorticity850\"], merged_ds[\"target_pr\"], dim=\"time\")\n",
    "sample_corr = xr.corr(merged_ds[\"vorticity850\"], merged_ds[\"pred_pr\"], dim=\"time\").mean(dim=\"sample_id\")"
   ]
  },
  {
   "cell_type": "raw",
   "id": "6dedf78c-bdc8-463a-b122-b15f457231a2",
   "metadata": {},
   "source": [
    "fig, axd = plt.subplot_mosaic([[\"Sample\", \"Target\"]], figsize=(12, 6), subplot_kw=dict(projection=cp_model_rotated_pole), constrained_layout=True)\n",
    "\n",
    "ax = axd[\"Sample\"]\n",
    "plot_grid(sample_corr, ax, title=\"Sample corr\", norm=None, cmap=\"RdBu\", centre=0, add_colorbar=True)\n",
    "\n",
    "ax = axd[\"Target\"]\n",
    "plot_grid(target_corr, ax, title=\"Target corr\", norm=None, cmap=\"RdBu\", center=0, add_colorbar=True)"
   ]
  }
 ],
 "metadata": {
  "kernelspec": {
   "display_name": "Python 3 (ipykernel)",
   "language": "python",
   "name": "python3"
  },
  "language_info": {
   "codemirror_mode": {
    "name": "ipython",
    "version": 3
   },
   "file_extension": ".py",
   "mimetype": "text/x-python",
   "name": "python",
   "nbconvert_exporter": "python",
   "pygments_lexer": "ipython3",
   "version": "3.9.13"
  }
 },
 "nbformat": 4,
 "nbformat_minor": 5
}
