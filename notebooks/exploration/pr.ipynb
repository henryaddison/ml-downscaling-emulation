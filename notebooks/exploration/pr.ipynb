{
 "cells": [
  {
   "cell_type": "markdown",
   "id": "75a4cb0e-b265-420c-b8e2-6e03bc82acee",
   "metadata": {},
   "source": [
    "# Precipitation"
   ]
  },
  {
   "cell_type": "markdown",
   "id": "9ac98eff-b8d8-4801-88ce-6174e78910cc",
   "metadata": {},
   "source": [
    "## Mean precip"
   ]
  },
  {
   "cell_type": "code",
   "execution_count": null,
   "id": "c9f8232d-801d-4c64-83b1-b0c08b957bfb",
   "metadata": {},
   "outputs": [],
   "source": [
    "%reload_ext autoreload\n",
    "\n",
    "%autoreload 2\n",
    "\n",
    "import math\n",
    "import os\n",
    "\n",
    "import iris\n",
    "import iris.analysis.cartography\n",
    "import matplotlib\n",
    "import matplotlib.pyplot as plt\n",
    "import numpy as np\n",
    "import xarray as xr\n",
    "\n",
    "from ml_downscaling_emulator import UKCPDatasetMetadata\n",
    "from ml_downscaling_emulator.helpers import plot_over_ts\n",
    "from ml_downscaling_emulator.utils import cp_model_rotated_pole, platecarree, plot_grid\n",
    "from ml_downscaling_emulator.preprocessing.select_domain import SelectDomain"
   ]
  },
  {
   "cell_type": "code",
   "execution_count": null,
   "id": "f9ecf15b-13a2-4cc5-9556-782561293b2a",
   "metadata": {},
   "outputs": [],
   "source": [
    "uk_mon_pr_ds = xr.open_mfdataset(\"/home/henry/cdt/summer/data/ceda/uk/2.2km/rcp85/01/pr/mon/*.nc\")\n",
    "uk_mon_pr_ds"
   ]
  },
  {
   "cell_type": "code",
   "execution_count": null,
   "id": "6793769c-092e-4559-9b27-badc8e7a9608",
   "metadata": {},
   "outputs": [],
   "source": [
    "uk_pr_mean_da = uk_mon_pr_ds[\"pr\"].isel(ensemble_member=0).mean(dim=\"time\")\n",
    "london_pr_mean_da = SelectDomain(subdomain=\"london\").run(uk_pr_mean_da).isel(grid_latitude=slice(32), grid_longitude=slice(32))"
   ]
  },
  {
   "cell_type": "code",
   "execution_count": null,
   "id": "7e1fbc7e-7b7f-4376-b1c3-abf7f4d0b51a",
   "metadata": {},
   "outputs": [],
   "source": [
    "fig, axd = plt.subplot_mosaic([[\"uk\", \"london\"]], figsize=(14, 6), subplot_kw={'projection': cp_model_rotated_pole}, constrained_layout=True)\n",
    "\n",
    "ax = axd[\"uk\"]\n",
    "plot_grid(uk_pr_mean_da, ax=ax, title=\"UK Mean Precip [mm/day]\", transform=cp_model_rotated_pole, cmap=\"Blues\", norm=None, add_colorbar=True)\n",
    "\n",
    "ax = axd[\"london\"]\n",
    "plot_grid(london_pr_mean_da, ax=ax, title=\"London area Mean Precip [mm/day]\", transform=cp_model_rotated_pole, cmap=\"Blues\", norm=None, add_colorbar=True)\n",
    "\n",
    "plt.show()"
   ]
  },
  {
   "cell_type": "markdown",
   "id": "48970be1-f726-4fa5-9934-8485d628f680",
   "metadata": {},
   "source": [
    "## Compare training set properties"
   ]
  },
  {
   "cell_type": "code",
   "execution_count": null,
   "id": "63fad24a-99da-46e4-803f-bb01d2fa406b",
   "metadata": {},
   "outputs": [],
   "source": [
    "dataset_name = \"2.2km-coarsened-8x_london_vorticity850_random\"\n",
    "train_ds = xr.open_dataset(os.path.join(os.getenv(\"MOOSE_DERIVED_DATA\"), \"nc-datasets\", dataset_name, \"train.nc\")).isel(grid_latitude=slice(32), grid_longitude=slice(32))\n",
    "val_ds = xr.open_dataset(os.path.join(os.getenv(\"MOOSE_DERIVED_DATA\"), \"nc-datasets\", dataset_name, \"val.nc\")).isel(grid_latitude=slice(32), grid_longitude=slice(32))\n",
    "\n",
    "val_ds[\"target_pr\"] = (val_ds[\"target_pr\"]*3600*24).assign_attrs({\"units\": \"mm day-1\"})\n",
    "train_ds[\"target_pr\"] = (train_ds[\"target_pr\"]*3600*24).assign_attrs({\"units\": \"mm day-1\"})\n",
    "\n",
    "train_pr_mean_da = train_ds[\"target_pr\"].mean(dim=\"time\")\n",
    "val_pr_mean_da = val_ds[\"target_pr\"].mean(dim=\"time\")"
   ]
  },
  {
   "cell_type": "markdown",
   "id": "9d9f85ef-1644-4660-b7a5-ad58998299c1",
   "metadata": {},
   "source": [
    "### Means"
   ]
  },
  {
   "cell_type": "code",
   "execution_count": null,
   "id": "250c31e0-646d-49ad-a3ef-67c406ccd46d",
   "metadata": {},
   "outputs": [],
   "source": [
    "fig, axd = plt.subplot_mosaic([[\"Full\", \"Train\", \"Val\"]], figsize=(18, 6), subplot_kw=dict(projection=cp_model_rotated_pole), constrained_layout=True)\n",
    "\n",
    "vmin = min([da.min().values for da in [train_pr_mean_da, val_pr_mean_da, london_pr_mean_da]])\n",
    "vmax = max([da.max().values for da in [train_pr_mean_da, val_pr_mean_da, london_pr_mean_da]])\n",
    "\n",
    "ax = axd[\"Full\"]\n",
    "plot_grid(london_pr_mean_da, ax, title=\"Full pr mean\", norm=matplotlib.colors.Normalize(vmin=vmin, vmax=vmax), add_colorbar=False)\n",
    "\n",
    "ax = axd[\"Train\"]\n",
    "plot_grid(train_pr_mean_da, ax, title=\"Training set pr mean\", norm=None, vmin=vmin, vmax=vmax, add_colorbar=True)\n",
    "\n",
    "ax = axd[\"Val\"]\n",
    "plot_grid(val_pr_mean_da, ax, title=\"Validation set pr mean\", norm=None, vmin=vmin, vmax=vmax, add_colorbar=False)\n",
    "\n",
    "plt.show()\n",
    "\n",
    "fig, axd = plt.subplot_mosaic([[\"Full - Train Mean\", \"Full - Train Mean Ratio\"], [\"Full - Val Mean\", \"Full - Val Mean Ratio\"]], figsize=(12, 12), subplot_kw=dict(projection=cp_model_rotated_pole), constrained_layout=True)\n",
    "\n",
    "ax = axd[\"Full - Train Mean\"]\n",
    "plot_grid((london_pr_mean_da - train_pr_mean_da), ax, title=\"Full - Train Mean\", norm=None, add_colorbar=True, cmap='BrBG', center=0)\n",
    "\n",
    "ax = axd[\"Full - Train Mean Ratio\"]\n",
    "plot_grid(((london_pr_mean_da - train_pr_mean_da)/london_pr_mean_da), ax, title=\"Full - Train Mean Ratio\", norm=None, add_colorbar=True, cmap='BrBG', center=0)\n",
    "\n",
    "ax = axd[\"Full - Val Mean\"]\n",
    "plot_grid((london_pr_mean_da - val_pr_mean_da), ax, title=\"Full - Val Mean\", norm=None, add_colorbar=True, cmap='BrBG', center=0)\n",
    "\n",
    "ax = axd[\"Full - Val Mean Ratio\"]\n",
    "plot_grid(((london_pr_mean_da - val_pr_mean_da)/london_pr_mean_da), ax, title=\"Full - Val Mean Ratio\", norm=None, add_colorbar=True, cmap='BrBG', center=0)\n",
    "\n",
    "plt.show()"
   ]
  },
  {
   "cell_type": "code",
   "execution_count": null,
   "id": "164d4ecf-4994-4800-83df-31e8ac25bfd1",
   "metadata": {},
   "outputs": [],
   "source": []
  }
 ],
 "metadata": {
  "kernelspec": {
   "display_name": "Python 3 (ipykernel)",
   "language": "python",
   "name": "python3"
  },
  "language_info": {
   "codemirror_mode": {
    "name": "ipython",
    "version": 3
   },
   "file_extension": ".py",
   "mimetype": "text/x-python",
   "name": "python",
   "nbconvert_exporter": "python",
   "pygments_lexer": "ipython3",
   "version": "3.9.10"
  }
 },
 "nbformat": 4,
 "nbformat_minor": 5
}
