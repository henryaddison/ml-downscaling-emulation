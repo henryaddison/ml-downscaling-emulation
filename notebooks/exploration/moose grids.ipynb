{
 "cells": [
  {
   "cell_type": "markdown",
   "id": "20122e7a-85fb-42ea-b2a2-d4805e1bd34c",
   "metadata": {},
   "source": [
    "# Explore the different grids of data extracted from moose"
   ]
  },
  {
   "cell_type": "code",
   "execution_count": 1,
   "id": "0ed7807c-5948-4f8f-9c4e-04004533834c",
   "metadata": {},
   "outputs": [],
   "source": [
    "%reload_ext autoreload\n",
    "\n",
    "%autoreload 2\n",
    "\n",
    "import glob\n",
    "import os\n",
    "\n",
    "import iris\n",
    "import matplotlib.pyplot as plt\n",
    "import numpy as np\n",
    "import xarray as xr\n",
    "\n",
    "from ml_downscaling_emulator.utils import cp_model_rotated_pole, platecarree"
   ]
  },
  {
   "cell_type": "code",
   "execution_count": 2,
   "id": "2421e847-6b20-48f0-8109-c0e3729dbd10",
   "metadata": {},
   "outputs": [
    {
     "name": "stdout",
     "output_type": "stream",
     "text": [
      "/home/henry/cdt/summer/data/moose/uk/2.2km/rcp85/01/xwind/day/xwind_rcp85_land-cpm_uk_2.2km_01_day_19801201-19811130.nc\n",
      "/home/henry/cdt/summer/data/moose/uk/2.2km/rcp85/01/lsrain/day/lsrain_rcp85_land-cpm_uk_2.2km_01_day_19801201-19811130.nc\n"
     ]
    }
   ],
   "source": [
    "xwind_pp_path = \"/home/henry/cdt/summer/data/moose/pp/uk/2.2km/rcp85/01/xwind/day/1981/data/*.pp\"\n",
    "lsrain_pp_path = \"/home/henry/cdt/summer/data/moose/pp/uk/2.2km/rcp85/01/lsrain/day/1981/data/*.pp\"\n",
    "\n",
    "xwind_nc_path = glob.glob(\"/home/henry/cdt/summer/data/moose/uk/2.2km/rcp85/01/xwind/day/*.nc\")[0]\n",
    "print(xwind_nc_path)\n",
    "lsrain_nc_path = glob.glob(\"/home/henry/cdt/summer/data/moose/uk/2.2km/rcp85/01/lsrain/day/*.nc\")[0]\n",
    "print(lsrain_nc_path)"
   ]
  },
  {
   "cell_type": "code",
   "execution_count": 6,
   "id": "ef212110-0316-4559-a7d6-8e11ed7d3677",
   "metadata": {},
   "outputs": [],
   "source": [
    "xwind_pp_cube = iris.load_cube(xwind_pp_path)\n",
    "# xwind_nc_cube = iris.load_cube(xwind_nc_path)\n",
    "\n",
    "lsrain_pp_cube = iris.load_cube(lsrain_pp_path)\n",
    "# lsrain_nc_cude = iris.load_cube(lsrain_nc_path)"
   ]
  },
  {
   "cell_type": "code",
   "execution_count": 8,
   "id": "17e820c9-600e-4d7b-bb76-163e1afd4e56",
   "metadata": {},
   "outputs": [
    {
     "data": {
      "text/html": [
       "\n",
       "<style>\n",
       "  a.iris {\n",
       "      text-decoration: none !important;\n",
       "  }\n",
       "  table.iris {\n",
       "      white-space: pre;\n",
       "      border: 1px solid;\n",
       "      border-color: #9c9c9c;\n",
       "      font-family: monaco, monospace;\n",
       "  }\n",
       "  th.iris {\n",
       "      background: #303f3f;\n",
       "      color: #e0e0e0;\n",
       "      border-left: 1px solid;\n",
       "      border-color: #9c9c9c;\n",
       "      font-size: 1.05em;\n",
       "      min-width: 50px;\n",
       "      max-width: 125px;\n",
       "  }\n",
       "  tr.iris :first-child {\n",
       "      border-right: 1px solid #9c9c9c !important;\n",
       "  }\n",
       "  td.iris-title {\n",
       "      background: #d5dcdf;\n",
       "      border-top: 1px solid #9c9c9c;\n",
       "      font-weight: bold;\n",
       "  }\n",
       "  .iris-word-cell {\n",
       "      text-align: left !important;\n",
       "      white-space: pre;\n",
       "  }\n",
       "  .iris-subheading-cell {\n",
       "      padding-left: 2em !important;\n",
       "  }\n",
       "  .iris-inclusion-cell {\n",
       "      padding-right: 1em !important;\n",
       "  }\n",
       "  .iris-panel-body {\n",
       "      padding-top: 0px;\n",
       "  }\n",
       "  .iris-panel-title {\n",
       "      padding-left: 3em;\n",
       "  }\n",
       "  .iris-panel-title {\n",
       "      margin-top: 7px;\n",
       "  }\n",
       "</style>\n",
       "<table class=\"iris\" id=\"140242257581488\">\n",
       "    <tr class=\"iris\">\n",
       "<th class=\"iris iris-word-cell\">X Wind (m s-1)</th>\n",
       "<th class=\"iris iris-word-cell\">time</th>\n",
       "<th class=\"iris iris-word-cell\">pressure</th>\n",
       "<th class=\"iris iris-word-cell\">grid_latitude</th>\n",
       "<th class=\"iris iris-word-cell\">grid_longitude</th>\n",
       "</tr>\n",
       "    <tr class=\"iris\">\n",
       "<td class=\"iris-word-cell iris-subheading-cell\">Shape</td>\n",
       "<td class=\"iris iris-inclusion-cell\">360</td>\n",
       "<td class=\"iris iris-inclusion-cell\">17</td>\n",
       "<td class=\"iris iris-inclusion-cell\">655</td>\n",
       "<td class=\"iris iris-inclusion-cell\">532</td>\n",
       "</tr>\n",
       "    <tr class=\"iris\">\n",
       "    <td class=\"iris-title iris-word-cell\">Dimension coordinates</td>\n",
       "    <td class=\"iris-title\"></td>\n",
       "    <td class=\"iris-title\"></td>\n",
       "    <td class=\"iris-title\"></td>\n",
       "    <td class=\"iris-title\"></td>\n",
       "</tr>\n",
       "<tr class=\"iris\">\n",
       "    <td class=\"iris-word-cell iris-subheading-cell\">\ttime</td>\n",
       "    <td class=\"iris-inclusion-cell\">x</td>\n",
       "    <td class=\"iris-inclusion-cell\">-</td>\n",
       "    <td class=\"iris-inclusion-cell\">-</td>\n",
       "    <td class=\"iris-inclusion-cell\">-</td>\n",
       "</tr>\n",
       "<tr class=\"iris\">\n",
       "    <td class=\"iris-word-cell iris-subheading-cell\">\tpressure</td>\n",
       "    <td class=\"iris-inclusion-cell\">-</td>\n",
       "    <td class=\"iris-inclusion-cell\">x</td>\n",
       "    <td class=\"iris-inclusion-cell\">-</td>\n",
       "    <td class=\"iris-inclusion-cell\">-</td>\n",
       "</tr>\n",
       "<tr class=\"iris\">\n",
       "    <td class=\"iris-word-cell iris-subheading-cell\">\tgrid_latitude</td>\n",
       "    <td class=\"iris-inclusion-cell\">-</td>\n",
       "    <td class=\"iris-inclusion-cell\">-</td>\n",
       "    <td class=\"iris-inclusion-cell\">x</td>\n",
       "    <td class=\"iris-inclusion-cell\">-</td>\n",
       "</tr>\n",
       "<tr class=\"iris\">\n",
       "    <td class=\"iris-word-cell iris-subheading-cell\">\tgrid_longitude</td>\n",
       "    <td class=\"iris-inclusion-cell\">-</td>\n",
       "    <td class=\"iris-inclusion-cell\">-</td>\n",
       "    <td class=\"iris-inclusion-cell\">-</td>\n",
       "    <td class=\"iris-inclusion-cell\">x</td>\n",
       "</tr>\n",
       "<tr class=\"iris\">\n",
       "    <td class=\"iris-title iris-word-cell\">Auxiliary coordinates</td>\n",
       "    <td class=\"iris-title\"></td>\n",
       "    <td class=\"iris-title\"></td>\n",
       "    <td class=\"iris-title\"></td>\n",
       "    <td class=\"iris-title\"></td>\n",
       "</tr>\n",
       "<tr class=\"iris\">\n",
       "    <td class=\"iris-word-cell iris-subheading-cell\">\tforecast_period</td>\n",
       "    <td class=\"iris-inclusion-cell\">x</td>\n",
       "    <td class=\"iris-inclusion-cell\">-</td>\n",
       "    <td class=\"iris-inclusion-cell\">-</td>\n",
       "    <td class=\"iris-inclusion-cell\">-</td>\n",
       "</tr>\n",
       "<tr class=\"iris\">\n",
       "    <td class=\"iris-title iris-word-cell\">Scalar coordinates</td>\n",
       "    <td class=\"iris-title\"></td>\n",
       "    <td class=\"iris-title\"></td>\n",
       "    <td class=\"iris-title\"></td>\n",
       "    <td class=\"iris-title\"></td>\n",
       "</tr>\n",
       "<tr class=\"iris\">\n",
       "    <td class=\"iris-word-cell iris-subheading-cell\">\tforecast_reference_time</td>\n",
       "    <td class=\"iris-word-cell\" colspan=\"4\">1979-09-01 00:00:00</td>\n",
       "</tr>\n",
       "<tr class=\"iris\">\n",
       "    <td class=\"iris-word-cell iris-subheading-cell\">\trealization</td>\n",
       "    <td class=\"iris-word-cell\" colspan=\"4\">1100000</td>\n",
       "</tr>\n",
       "<tr class=\"iris\">\n",
       "    <td class=\"iris-title iris-word-cell\">Attributes</td>\n",
       "    <td class=\"iris-title\"></td>\n",
       "    <td class=\"iris-title\"></td>\n",
       "    <td class=\"iris-title\"></td>\n",
       "    <td class=\"iris-title\"></td>\n",
       "</tr>\n",
       "<tr class=\"iris\">\n",
       "    <td class=\"iris-word-cell iris-subheading-cell\">\tSTASH</td>\n",
       "    <td class=\"iris-word-cell\" colspan=\"4\">m01s30i201</td>\n",
       "</tr>\n",
       "<tr class=\"iris\">\n",
       "    <td class=\"iris-word-cell iris-subheading-cell\">\tsource</td>\n",
       "    <td class=\"iris-word-cell\" colspan=\"4\">Data from Met Office Unified Model</td>\n",
       "</tr>\n",
       "<tr class=\"iris\">\n",
       "    <td class=\"iris-word-cell iris-subheading-cell\">\tum_version</td>\n",
       "    <td class=\"iris-word-cell\" colspan=\"4\">10.6</td>\n",
       "</tr>\n",
       "<tr class=\"iris\">\n",
       "    <td class=\"iris-title iris-word-cell\">Cell methods</td>\n",
       "    <td class=\"iris-title\"></td>\n",
       "    <td class=\"iris-title\"></td>\n",
       "    <td class=\"iris-title\"></td>\n",
       "    <td class=\"iris-title\"></td>\n",
       "</tr>\n",
       "<tr class=\"iris\">\n",
       "    <td class=\"iris-word-cell iris-subheading-cell\">\tmean: time (1 hour)</td>\n",
       "    <td class=\"iris-word-cell\" colspan=\"4\"></td>\n",
       "</tr>\n",
       "</table>\n",
       "        "
      ],
      "text/plain": [
       "<iris 'Cube' of x_wind / (m s-1) (time: 360; pressure: 17; grid_latitude: 655; grid_longitude: 532)>"
      ]
     },
     "execution_count": 8,
     "metadata": {},
     "output_type": "execute_result"
    }
   ],
   "source": [
    "xwind_pp_cube"
   ]
  },
  {
   "cell_type": "code",
   "execution_count": 9,
   "id": "2e0b3e9c-cc97-468e-b942-715b1ae0621e",
   "metadata": {},
   "outputs": [
    {
     "data": {
      "text/html": [
       "\n",
       "<style>\n",
       "  a.iris {\n",
       "      text-decoration: none !important;\n",
       "  }\n",
       "  table.iris {\n",
       "      white-space: pre;\n",
       "      border: 1px solid;\n",
       "      border-color: #9c9c9c;\n",
       "      font-family: monaco, monospace;\n",
       "  }\n",
       "  th.iris {\n",
       "      background: #303f3f;\n",
       "      color: #e0e0e0;\n",
       "      border-left: 1px solid;\n",
       "      border-color: #9c9c9c;\n",
       "      font-size: 1.05em;\n",
       "      min-width: 50px;\n",
       "      max-width: 125px;\n",
       "  }\n",
       "  tr.iris :first-child {\n",
       "      border-right: 1px solid #9c9c9c !important;\n",
       "  }\n",
       "  td.iris-title {\n",
       "      background: #d5dcdf;\n",
       "      border-top: 1px solid #9c9c9c;\n",
       "      font-weight: bold;\n",
       "  }\n",
       "  .iris-word-cell {\n",
       "      text-align: left !important;\n",
       "      white-space: pre;\n",
       "  }\n",
       "  .iris-subheading-cell {\n",
       "      padding-left: 2em !important;\n",
       "  }\n",
       "  .iris-inclusion-cell {\n",
       "      padding-right: 1em !important;\n",
       "  }\n",
       "  .iris-panel-body {\n",
       "      padding-top: 0px;\n",
       "  }\n",
       "  .iris-panel-title {\n",
       "      padding-left: 3em;\n",
       "  }\n",
       "  .iris-panel-title {\n",
       "      margin-top: 7px;\n",
       "  }\n",
       "</style>\n",
       "<table class=\"iris\" id=\"140242424509968\">\n",
       "    <tr class=\"iris\">\n",
       "<th class=\"iris iris-word-cell\">Stratiform Rainfall Flux (kg m-2 s-1)</th>\n",
       "<th class=\"iris iris-word-cell\">time</th>\n",
       "<th class=\"iris iris-word-cell\">grid_latitude</th>\n",
       "<th class=\"iris iris-word-cell\">grid_longitude</th>\n",
       "</tr>\n",
       "    <tr class=\"iris\">\n",
       "<td class=\"iris-word-cell iris-subheading-cell\">Shape</td>\n",
       "<td class=\"iris iris-inclusion-cell\">360</td>\n",
       "<td class=\"iris iris-inclusion-cell\">654</td>\n",
       "<td class=\"iris iris-inclusion-cell\">532</td>\n",
       "</tr>\n",
       "    <tr class=\"iris\">\n",
       "    <td class=\"iris-title iris-word-cell\">Dimension coordinates</td>\n",
       "    <td class=\"iris-title\"></td>\n",
       "    <td class=\"iris-title\"></td>\n",
       "    <td class=\"iris-title\"></td>\n",
       "</tr>\n",
       "<tr class=\"iris\">\n",
       "    <td class=\"iris-word-cell iris-subheading-cell\">\ttime</td>\n",
       "    <td class=\"iris-inclusion-cell\">x</td>\n",
       "    <td class=\"iris-inclusion-cell\">-</td>\n",
       "    <td class=\"iris-inclusion-cell\">-</td>\n",
       "</tr>\n",
       "<tr class=\"iris\">\n",
       "    <td class=\"iris-word-cell iris-subheading-cell\">\tgrid_latitude</td>\n",
       "    <td class=\"iris-inclusion-cell\">-</td>\n",
       "    <td class=\"iris-inclusion-cell\">x</td>\n",
       "    <td class=\"iris-inclusion-cell\">-</td>\n",
       "</tr>\n",
       "<tr class=\"iris\">\n",
       "    <td class=\"iris-word-cell iris-subheading-cell\">\tgrid_longitude</td>\n",
       "    <td class=\"iris-inclusion-cell\">-</td>\n",
       "    <td class=\"iris-inclusion-cell\">-</td>\n",
       "    <td class=\"iris-inclusion-cell\">x</td>\n",
       "</tr>\n",
       "<tr class=\"iris\">\n",
       "    <td class=\"iris-title iris-word-cell\">Auxiliary coordinates</td>\n",
       "    <td class=\"iris-title\"></td>\n",
       "    <td class=\"iris-title\"></td>\n",
       "    <td class=\"iris-title\"></td>\n",
       "</tr>\n",
       "<tr class=\"iris\">\n",
       "    <td class=\"iris-word-cell iris-subheading-cell\">\tforecast_period</td>\n",
       "    <td class=\"iris-inclusion-cell\">x</td>\n",
       "    <td class=\"iris-inclusion-cell\">-</td>\n",
       "    <td class=\"iris-inclusion-cell\">-</td>\n",
       "</tr>\n",
       "<tr class=\"iris\">\n",
       "    <td class=\"iris-title iris-word-cell\">Scalar coordinates</td>\n",
       "    <td class=\"iris-title\"></td>\n",
       "    <td class=\"iris-title\"></td>\n",
       "    <td class=\"iris-title\"></td>\n",
       "</tr>\n",
       "<tr class=\"iris\">\n",
       "    <td class=\"iris-word-cell iris-subheading-cell\">\tforecast_reference_time</td>\n",
       "    <td class=\"iris-word-cell\" colspan=\"3\">1979-09-01 00:00:00</td>\n",
       "</tr>\n",
       "<tr class=\"iris\">\n",
       "    <td class=\"iris-word-cell iris-subheading-cell\">\trealization</td>\n",
       "    <td class=\"iris-word-cell\" colspan=\"3\">1100000</td>\n",
       "</tr>\n",
       "<tr class=\"iris\">\n",
       "    <td class=\"iris-title iris-word-cell\">Attributes</td>\n",
       "    <td class=\"iris-title\"></td>\n",
       "    <td class=\"iris-title\"></td>\n",
       "    <td class=\"iris-title\"></td>\n",
       "</tr>\n",
       "<tr class=\"iris\">\n",
       "    <td class=\"iris-word-cell iris-subheading-cell\">\tSTASH</td>\n",
       "    <td class=\"iris-word-cell\" colspan=\"3\">m01s04i203</td>\n",
       "</tr>\n",
       "<tr class=\"iris\">\n",
       "    <td class=\"iris-word-cell iris-subheading-cell\">\tsource</td>\n",
       "    <td class=\"iris-word-cell\" colspan=\"3\">Data from Met Office Unified Model</td>\n",
       "</tr>\n",
       "<tr class=\"iris\">\n",
       "    <td class=\"iris-word-cell iris-subheading-cell\">\tum_version</td>\n",
       "    <td class=\"iris-word-cell\" colspan=\"3\">10.6</td>\n",
       "</tr>\n",
       "<tr class=\"iris\">\n",
       "    <td class=\"iris-title iris-word-cell\">Cell methods</td>\n",
       "    <td class=\"iris-title\"></td>\n",
       "    <td class=\"iris-title\"></td>\n",
       "    <td class=\"iris-title\"></td>\n",
       "</tr>\n",
       "<tr class=\"iris\">\n",
       "    <td class=\"iris-word-cell iris-subheading-cell\">\tmean: time (1 hour)</td>\n",
       "    <td class=\"iris-word-cell\" colspan=\"3\"></td>\n",
       "</tr>\n",
       "</table>\n",
       "        "
      ],
      "text/plain": [
       "<iris 'Cube' of stratiform_rainfall_flux / (kg m-2 s-1) (time: 360; grid_latitude: 654; grid_longitude: 532)>"
      ]
     },
     "execution_count": 9,
     "metadata": {},
     "output_type": "execute_result"
    }
   ],
   "source": [
    "lsrain_pp_cube"
   ]
  },
  {
   "cell_type": "code",
   "execution_count": 19,
   "id": "e780f743-9190-4381-8fbd-731e7bf1159d",
   "metadata": {},
   "outputs": [
    {
     "name": "stdout",
     "output_type": "stream",
     "text": [
      "[-5.546749 -5.510749] [8.890849 8.926849]\n",
      "[-5.5647492 -5.528749 ] [8.908849 8.944849]\n"
     ]
    }
   ],
   "source": [
    "print(lsrain_pp_cube.coord('grid_latitude').points[0:2], lsrain_pp_cube.coord('grid_latitude').points[-2:])\n",
    "print(xwind_pp_cube.coord('grid_latitude').points[0:2], xwind_pp_cube.coord('grid_latitude').points[-2:])"
   ]
  },
  {
   "cell_type": "code",
   "execution_count": 20,
   "id": "72390502-426e-472d-a2db-6b87b1fe3597",
   "metadata": {},
   "outputs": [
    {
     "name": "stdout",
     "output_type": "stream",
     "text": [
      "[353.07196 353.10794] [365.13354 365.16956]\n",
      "[353.07196 353.10794] [365.13354 365.16956]\n"
     ]
    }
   ],
   "source": [
    "print(lsrain_pp_cube.coord('grid_longitude').points[0:2], lsrain_pp_cube.coord('grid_longitude').points[-2:])\n",
    "print(xwind_pp_cube.coord('grid_longitude').points[0:2], xwind_pp_cube.coord('grid_longitude').points[-2:])"
   ]
  },
  {
   "cell_type": "code",
   "execution_count": 25,
   "id": "ec04ea64-8f1d-448f-9a24-12251d0b3514",
   "metadata": {},
   "outputs": [
    {
     "data": {
      "text/plain": [
       "0.018000603"
      ]
     },
     "execution_count": 25,
     "metadata": {},
     "output_type": "execute_result"
    }
   ],
   "source": [
    "np.abs(lsrain_pp_cube.coord('grid_latitude').points-xwind_pp_cube.coord('grid_latitude').points[:-1]).max()"
   ]
  },
  {
   "cell_type": "code",
   "execution_count": 26,
   "id": "1316b3b0-fddb-4148-92ef-25196d1d4314",
   "metadata": {},
   "outputs": [
    {
     "data": {
      "text/plain": [
       "0.018000603"
      ]
     },
     "execution_count": 26,
     "metadata": {},
     "output_type": "execute_result"
    }
   ],
   "source": [
    "np.abs(lsrain_pp_cube.coord('grid_latitude').points-xwind_pp_cube.coord('grid_latitude').points[1:]).max()"
   ]
  },
  {
   "cell_type": "code",
   "execution_count": 27,
   "id": "9c4b7799-2007-4502-ab16-3c8379ea9cbe",
   "metadata": {},
   "outputs": [
    {
     "data": {
      "text/plain": [
       "-5.546749"
      ]
     },
     "execution_count": 27,
     "metadata": {},
     "output_type": "execute_result"
    }
   ],
   "source": [
    "xwind_pp_cube.coord('grid_latitude').points[0:2].mean()"
   ]
  },
  {
   "cell_type": "code",
   "execution_count": 33,
   "id": "5603488a-ce29-455a-bc30-abaeee511a1b",
   "metadata": {},
   "outputs": [
    {
     "data": {
      "text/plain": [
       "0.0003058910369873047"
      ]
     },
     "execution_count": 33,
     "metadata": {},
     "output_type": "execute_result"
    }
   ],
   "source": [
    "np.abs(lsrain_pp_cube.coord('grid_latitude').points-(np.convolve(xwind_pp_cube.coord('grid_latitude').points, np.ones(2), 'valid') / 2)).max()"
   ]
  },
  {
   "cell_type": "code",
   "execution_count": 31,
   "id": "2bf968ae-3878-497d-a41e-b0bca6275305",
   "metadata": {},
   "outputs": [
    {
     "data": {
      "text/plain": [
       "(532,)"
      ]
     },
     "execution_count": 31,
     "metadata": {},
     "output_type": "execute_result"
    }
   ],
   "source": [
    "lsrain_pp_cube.coord('grid_longitude').points.shape"
   ]
  },
  {
   "cell_type": "code",
   "execution_count": null,
   "id": "195dc516-c4c5-4f3a-9d9b-68b00bc382fc",
   "metadata": {},
   "outputs": [],
   "source": []
  }
 ],
 "metadata": {
  "kernelspec": {
   "display_name": "Python 3 (ipykernel)",
   "language": "python",
   "name": "python3"
  },
  "language_info": {
   "codemirror_mode": {
    "name": "ipython",
    "version": 3
   },
   "file_extension": ".py",
   "mimetype": "text/x-python",
   "name": "python",
   "nbconvert_exporter": "python",
   "pygments_lexer": "ipython3",
   "version": "3.9.10"
  }
 },
 "nbformat": 4,
 "nbformat_minor": 5
}
