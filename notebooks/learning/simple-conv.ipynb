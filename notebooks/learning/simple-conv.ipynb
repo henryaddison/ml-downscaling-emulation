{
 "cells": [
  {
   "cell_type": "code",
   "execution_count": 24,
   "id": "27e10c28-bd72-46c9-b3f4-715c800edcf1",
   "metadata": {},
   "outputs": [],
   "source": [
    "import torch\n",
    "import torch.nn as nn\n",
    "from torch.utils.data import DataLoader, TensorDataset\n",
    "import logging"
   ]
  },
  {
   "cell_type": "code",
   "execution_count": 10,
   "id": "cb9c7a78-4f32-4b83-8dfd-95c96e87cc0e",
   "metadata": {},
   "outputs": [],
   "source": [
    "train_X = torch.load('../../../../derived_data/sample-pr_psl/train_X.pt')\n",
    "train_y = torch.load('../../../../derived_data/sample-pr_psl/train_y.pt')\n",
    "\n",
    "val_X = torch.load('../../../../derived_data/sample-pr_psl/val_X.pt')\n",
    "val_y = torch.load('../../../../derived_data/sample-pr_psl/val_y.pt')"
   ]
  },
  {
   "cell_type": "code",
   "execution_count": 11,
   "id": "acaf56e8-900d-4779-8add-d4227bb3b2eb",
   "metadata": {},
   "outputs": [
    {
     "name": "stdout",
     "output_type": "stream",
     "text": [
      "torch.Size([100, 2, 53, 53])\n",
      "torch.Size([100, 1, 53, 53])\n",
      "torch.Size([100, 2, 53, 53])\n",
      "torch.Size([100, 1, 53, 53])\n"
     ]
    }
   ],
   "source": [
    "print(train_X.shape)\n",
    "print(train_y.shape)\n",
    "print(val_X.shape)\n",
    "print(val_y.shape)"
   ]
  },
  {
   "cell_type": "code",
   "execution_count": 14,
   "id": "77f1c931-c2a4-48aa-bb18-212302a26314",
   "metadata": {},
   "outputs": [],
   "source": [
    "train_dl = DataLoader(TensorDataset(train_X, train_y), batch_size=64)\n",
    "val_dl = DataLoader(TensorDataset(val_X, val_y), batch_size=64)"
   ]
  },
  {
   "cell_type": "code",
   "execution_count": 27,
   "id": "7e76cacb-565d-4070-b33d-dba09593f595",
   "metadata": {},
   "outputs": [],
   "source": [
    "def train_on_batch(batch_X, batch_y, model):\n",
    "    # Compute prediction and loss\n",
    "    outputs_tensor = model(batch_X)\n",
    "    loss = criterion(outputs_tensor, batch_y)\n",
    "\n",
    "    # Backpropagation\n",
    "    optimizer.zero_grad()\n",
    "    loss.backward()\n",
    "    optimizer.step()\n",
    "\n",
    "    return loss\n",
    "\n",
    "def train_epoch(model, dataloader, device, epoch):\n",
    "    model.train()\n",
    "\n",
    "    epoch_loss = 0.0\n",
    "\n",
    "    for i, (batch_X, batch_y) in enumerate(dataloader):\n",
    "        loss = train_on_batch(batch_X.to(device), batch_y.to(device), model)\n",
    "        epoch_loss += loss.item()\n",
    "\n",
    "        # Log progress at least every 10th batch\n",
    "        if (len(dataloader) <= 10) or ((i+1) % max(len(dataloader)//10,1) == 0):\n",
    "            logging.info(f\"Epoch {epoch}: Batch {i}: Batch Train Loss {loss.item()} Running Epoch Train Loss {epoch_loss}\")\n",
    "\n",
    "    return epoch_loss"
   ]
  },
  {
   "cell_type": "code",
   "execution_count": 99,
   "id": "ecab92ec-970f-46b0-b637-4c9ffe85bd65",
   "metadata": {},
   "outputs": [
    {
     "data": {
      "text/plain": [
       "329252.625"
      ]
     },
     "execution_count": 99,
     "metadata": {},
     "output_type": "execute_result"
    }
   ],
   "source": [
    "device = 'cpu'\n",
    "model = nn.Conv2d(2, 1, kernel_size=31, padding=15)\n",
    "learning_rate = 2e-4\n",
    "optimizer = torch.optim.Adam(model.parameters(), lr=learning_rate)\n",
    "criterion = torch.nn.MSELoss().to(device)\n",
    "\n",
    "train_epoch(model, train_dl, device, 0)"
   ]
  },
  {
   "cell_type": "code",
   "execution_count": 95,
   "id": "1ecac7b2-a5b9-4b8c-bd5c-a9a1bfdd30df",
   "metadata": {},
   "outputs": [
    {
     "data": {
      "text/plain": [
       "torch.Size([36, 1, 55, 55])"
      ]
     },
     "execution_count": 95,
     "metadata": {},
     "output_type": "execute_result"
    }
   ],
   "source": [
    "model(list(enumerate(train_dl))[1][1][0]).shape"
   ]
  },
  {
   "cell_type": "code",
   "execution_count": null,
   "id": "f1adf36c-cd86-454c-a240-4babab07f551",
   "metadata": {},
   "outputs": [],
   "source": []
  }
 ],
 "metadata": {
  "kernelspec": {
   "display_name": "Python 3 (ipykernel)",
   "language": "python",
   "name": "python3"
  },
  "language_info": {
   "codemirror_mode": {
    "name": "ipython",
    "version": 3
   },
   "file_extension": ".py",
   "mimetype": "text/x-python",
   "name": "python",
   "nbconvert_exporter": "python",
   "pygments_lexer": "ipython3",
   "version": "3.9.10"
  }
 },
 "nbformat": 4,
 "nbformat_minor": 5
}
